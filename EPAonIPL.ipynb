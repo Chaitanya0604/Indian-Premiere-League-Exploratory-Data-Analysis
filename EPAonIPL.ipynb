{
  "nbformat": 4,
  "nbformat_minor": 0,
  "metadata": {
    "colab": {
      "name": "EPAonIPL.ipynb",
      "provenance": [],
      "collapsed_sections": [],
      "mount_file_id": "1ymjRBO8_5pr_6cF24mUUsbQdNtOUkHnj",
      "authorship_tag": "ABX9TyNModvd7W2RVCqzhQxkd4Kd",
      "include_colab_link": true
    },
    "kernelspec": {
      "name": "python3",
      "display_name": "Python 3"
    },
    "language_info": {
      "name": "python"
    }
  },
  "cells": [
    {
      "cell_type": "markdown",
      "metadata": {
        "id": "view-in-github",
        "colab_type": "text"
      },
      "source": [
        "<a href=\"https://colab.research.google.com/github/Chaitanya0604/Indian-Premiere-League-Exploratory-Data-Analysis/blob/main/EPAonIPL.ipynb\" target=\"_parent\"><img src=\"https://colab.research.google.com/assets/colab-badge.svg\" alt=\"Open In Colab\"/></a>"
      ]
    },
    {
      "cell_type": "markdown",
      "metadata": {
        "id": "WexjR_TKQRDN"
      },
      "source": [
        "**EDA on IPL Dataset**"
      ]
    },
    {
      "cell_type": "code",
      "metadata": {
        "id": "VWwLe2Z7QIPD"
      },
      "source": [
        "#Importing libraries\n",
        "import pandas as pd\n",
        "import numpy as np\n",
        "import matplotlib.pyplot as plt\n",
        "import seaborn as sns\n"
      ],
      "execution_count": null,
      "outputs": []
    },
    {
      "cell_type": "code",
      "metadata": {
        "colab": {
          "base_uri": "https://localhost:8080/",
          "height": 780
        },
        "id": "5Msb3L9-JJ_Y",
        "outputId": "3711ff59-48e4-4bcb-af70-b30f94b005a2"
      },
      "source": [
        "#Importing IPL Data\n",
        "data=pd.read_csv(\"/content/drive/MyDrive/Sparks Foundation/matches.csv\")\n",
        "data.head(10)"
      ],
      "execution_count": null,
      "outputs": [
        {
          "output_type": "execute_result",
          "data": {
            "text/html": [
              "<div>\n",
              "<style scoped>\n",
              "    .dataframe tbody tr th:only-of-type {\n",
              "        vertical-align: middle;\n",
              "    }\n",
              "\n",
              "    .dataframe tbody tr th {\n",
              "        vertical-align: top;\n",
              "    }\n",
              "\n",
              "    .dataframe thead th {\n",
              "        text-align: right;\n",
              "    }\n",
              "</style>\n",
              "<table border=\"1\" class=\"dataframe\">\n",
              "  <thead>\n",
              "    <tr style=\"text-align: right;\">\n",
              "      <th></th>\n",
              "      <th>id</th>\n",
              "      <th>season</th>\n",
              "      <th>city</th>\n",
              "      <th>date</th>\n",
              "      <th>team1</th>\n",
              "      <th>team2</th>\n",
              "      <th>toss_winner</th>\n",
              "      <th>toss_decision</th>\n",
              "      <th>result</th>\n",
              "      <th>dl_applied</th>\n",
              "      <th>winner</th>\n",
              "      <th>win_by_runs</th>\n",
              "      <th>win_by_wickets</th>\n",
              "      <th>player_of_match</th>\n",
              "      <th>venue</th>\n",
              "      <th>umpire1</th>\n",
              "      <th>umpire2</th>\n",
              "      <th>umpire3</th>\n",
              "    </tr>\n",
              "  </thead>\n",
              "  <tbody>\n",
              "    <tr>\n",
              "      <th>0</th>\n",
              "      <td>1</td>\n",
              "      <td>2017</td>\n",
              "      <td>Hyderabad</td>\n",
              "      <td>2017-04-05</td>\n",
              "      <td>Sunrisers Hyderabad</td>\n",
              "      <td>Royal Challengers Bangalore</td>\n",
              "      <td>Royal Challengers Bangalore</td>\n",
              "      <td>field</td>\n",
              "      <td>normal</td>\n",
              "      <td>0</td>\n",
              "      <td>Sunrisers Hyderabad</td>\n",
              "      <td>35</td>\n",
              "      <td>0</td>\n",
              "      <td>Yuvraj Singh</td>\n",
              "      <td>Rajiv Gandhi International Stadium, Uppal</td>\n",
              "      <td>AY Dandekar</td>\n",
              "      <td>NJ Llong</td>\n",
              "      <td>NaN</td>\n",
              "    </tr>\n",
              "    <tr>\n",
              "      <th>1</th>\n",
              "      <td>2</td>\n",
              "      <td>2017</td>\n",
              "      <td>Pune</td>\n",
              "      <td>2017-04-06</td>\n",
              "      <td>Mumbai Indians</td>\n",
              "      <td>Rising Pune Supergiant</td>\n",
              "      <td>Rising Pune Supergiant</td>\n",
              "      <td>field</td>\n",
              "      <td>normal</td>\n",
              "      <td>0</td>\n",
              "      <td>Rising Pune Supergiant</td>\n",
              "      <td>0</td>\n",
              "      <td>7</td>\n",
              "      <td>SPD Smith</td>\n",
              "      <td>Maharashtra Cricket Association Stadium</td>\n",
              "      <td>A Nand Kishore</td>\n",
              "      <td>S Ravi</td>\n",
              "      <td>NaN</td>\n",
              "    </tr>\n",
              "    <tr>\n",
              "      <th>2</th>\n",
              "      <td>3</td>\n",
              "      <td>2017</td>\n",
              "      <td>Rajkot</td>\n",
              "      <td>2017-04-07</td>\n",
              "      <td>Gujarat Lions</td>\n",
              "      <td>Kolkata Knight Riders</td>\n",
              "      <td>Kolkata Knight Riders</td>\n",
              "      <td>field</td>\n",
              "      <td>normal</td>\n",
              "      <td>0</td>\n",
              "      <td>Kolkata Knight Riders</td>\n",
              "      <td>0</td>\n",
              "      <td>10</td>\n",
              "      <td>CA Lynn</td>\n",
              "      <td>Saurashtra Cricket Association Stadium</td>\n",
              "      <td>Nitin Menon</td>\n",
              "      <td>CK Nandan</td>\n",
              "      <td>NaN</td>\n",
              "    </tr>\n",
              "    <tr>\n",
              "      <th>3</th>\n",
              "      <td>4</td>\n",
              "      <td>2017</td>\n",
              "      <td>Indore</td>\n",
              "      <td>2017-04-08</td>\n",
              "      <td>Rising Pune Supergiant</td>\n",
              "      <td>Kings XI Punjab</td>\n",
              "      <td>Kings XI Punjab</td>\n",
              "      <td>field</td>\n",
              "      <td>normal</td>\n",
              "      <td>0</td>\n",
              "      <td>Kings XI Punjab</td>\n",
              "      <td>0</td>\n",
              "      <td>6</td>\n",
              "      <td>GJ Maxwell</td>\n",
              "      <td>Holkar Cricket Stadium</td>\n",
              "      <td>AK Chaudhary</td>\n",
              "      <td>C Shamshuddin</td>\n",
              "      <td>NaN</td>\n",
              "    </tr>\n",
              "    <tr>\n",
              "      <th>4</th>\n",
              "      <td>5</td>\n",
              "      <td>2017</td>\n",
              "      <td>Bangalore</td>\n",
              "      <td>2017-04-08</td>\n",
              "      <td>Royal Challengers Bangalore</td>\n",
              "      <td>Delhi Daredevils</td>\n",
              "      <td>Royal Challengers Bangalore</td>\n",
              "      <td>bat</td>\n",
              "      <td>normal</td>\n",
              "      <td>0</td>\n",
              "      <td>Royal Challengers Bangalore</td>\n",
              "      <td>15</td>\n",
              "      <td>0</td>\n",
              "      <td>KM Jadhav</td>\n",
              "      <td>M Chinnaswamy Stadium</td>\n",
              "      <td>NaN</td>\n",
              "      <td>NaN</td>\n",
              "      <td>NaN</td>\n",
              "    </tr>\n",
              "    <tr>\n",
              "      <th>5</th>\n",
              "      <td>6</td>\n",
              "      <td>2017</td>\n",
              "      <td>Hyderabad</td>\n",
              "      <td>2017-04-09</td>\n",
              "      <td>Gujarat Lions</td>\n",
              "      <td>Sunrisers Hyderabad</td>\n",
              "      <td>Sunrisers Hyderabad</td>\n",
              "      <td>field</td>\n",
              "      <td>normal</td>\n",
              "      <td>0</td>\n",
              "      <td>Sunrisers Hyderabad</td>\n",
              "      <td>0</td>\n",
              "      <td>9</td>\n",
              "      <td>Rashid Khan</td>\n",
              "      <td>Rajiv Gandhi International Stadium, Uppal</td>\n",
              "      <td>A Deshmukh</td>\n",
              "      <td>NJ Llong</td>\n",
              "      <td>NaN</td>\n",
              "    </tr>\n",
              "    <tr>\n",
              "      <th>6</th>\n",
              "      <td>7</td>\n",
              "      <td>2017</td>\n",
              "      <td>Mumbai</td>\n",
              "      <td>2017-04-09</td>\n",
              "      <td>Kolkata Knight Riders</td>\n",
              "      <td>Mumbai Indians</td>\n",
              "      <td>Mumbai Indians</td>\n",
              "      <td>field</td>\n",
              "      <td>normal</td>\n",
              "      <td>0</td>\n",
              "      <td>Mumbai Indians</td>\n",
              "      <td>0</td>\n",
              "      <td>4</td>\n",
              "      <td>N Rana</td>\n",
              "      <td>Wankhede Stadium</td>\n",
              "      <td>Nitin Menon</td>\n",
              "      <td>CK Nandan</td>\n",
              "      <td>NaN</td>\n",
              "    </tr>\n",
              "    <tr>\n",
              "      <th>7</th>\n",
              "      <td>8</td>\n",
              "      <td>2017</td>\n",
              "      <td>Indore</td>\n",
              "      <td>2017-04-10</td>\n",
              "      <td>Royal Challengers Bangalore</td>\n",
              "      <td>Kings XI Punjab</td>\n",
              "      <td>Royal Challengers Bangalore</td>\n",
              "      <td>bat</td>\n",
              "      <td>normal</td>\n",
              "      <td>0</td>\n",
              "      <td>Kings XI Punjab</td>\n",
              "      <td>0</td>\n",
              "      <td>8</td>\n",
              "      <td>AR Patel</td>\n",
              "      <td>Holkar Cricket Stadium</td>\n",
              "      <td>AK Chaudhary</td>\n",
              "      <td>C Shamshuddin</td>\n",
              "      <td>NaN</td>\n",
              "    </tr>\n",
              "    <tr>\n",
              "      <th>8</th>\n",
              "      <td>9</td>\n",
              "      <td>2017</td>\n",
              "      <td>Pune</td>\n",
              "      <td>2017-04-11</td>\n",
              "      <td>Delhi Daredevils</td>\n",
              "      <td>Rising Pune Supergiant</td>\n",
              "      <td>Rising Pune Supergiant</td>\n",
              "      <td>field</td>\n",
              "      <td>normal</td>\n",
              "      <td>0</td>\n",
              "      <td>Delhi Daredevils</td>\n",
              "      <td>97</td>\n",
              "      <td>0</td>\n",
              "      <td>SV Samson</td>\n",
              "      <td>Maharashtra Cricket Association Stadium</td>\n",
              "      <td>AY Dandekar</td>\n",
              "      <td>S Ravi</td>\n",
              "      <td>NaN</td>\n",
              "    </tr>\n",
              "    <tr>\n",
              "      <th>9</th>\n",
              "      <td>10</td>\n",
              "      <td>2017</td>\n",
              "      <td>Mumbai</td>\n",
              "      <td>2017-04-12</td>\n",
              "      <td>Sunrisers Hyderabad</td>\n",
              "      <td>Mumbai Indians</td>\n",
              "      <td>Mumbai Indians</td>\n",
              "      <td>field</td>\n",
              "      <td>normal</td>\n",
              "      <td>0</td>\n",
              "      <td>Mumbai Indians</td>\n",
              "      <td>0</td>\n",
              "      <td>4</td>\n",
              "      <td>JJ Bumrah</td>\n",
              "      <td>Wankhede Stadium</td>\n",
              "      <td>Nitin Menon</td>\n",
              "      <td>CK Nandan</td>\n",
              "      <td>NaN</td>\n",
              "    </tr>\n",
              "  </tbody>\n",
              "</table>\n",
              "</div>"
            ],
            "text/plain": [
              "   id  season       city  ...         umpire1        umpire2 umpire3\n",
              "0   1    2017  Hyderabad  ...     AY Dandekar       NJ Llong     NaN\n",
              "1   2    2017       Pune  ...  A Nand Kishore         S Ravi     NaN\n",
              "2   3    2017     Rajkot  ...     Nitin Menon      CK Nandan     NaN\n",
              "3   4    2017     Indore  ...    AK Chaudhary  C Shamshuddin     NaN\n",
              "4   5    2017  Bangalore  ...             NaN            NaN     NaN\n",
              "5   6    2017  Hyderabad  ...      A Deshmukh       NJ Llong     NaN\n",
              "6   7    2017     Mumbai  ...     Nitin Menon      CK Nandan     NaN\n",
              "7   8    2017     Indore  ...    AK Chaudhary  C Shamshuddin     NaN\n",
              "8   9    2017       Pune  ...     AY Dandekar         S Ravi     NaN\n",
              "9  10    2017     Mumbai  ...     Nitin Menon      CK Nandan     NaN\n",
              "\n",
              "[10 rows x 18 columns]"
            ]
          },
          "metadata": {
            "tags": []
          },
          "execution_count": 3
        }
      ]
    },
    {
      "cell_type": "markdown",
      "metadata": {
        "id": "1qyHLRrvTRrh"
      },
      "source": [
        "How big is the dataset? Rows and columns"
      ]
    },
    {
      "cell_type": "code",
      "metadata": {
        "colab": {
          "base_uri": "https://localhost:8080/"
        },
        "id": "wtO6VHlGSqqg",
        "outputId": "cd773be2-ada6-435d-d88b-418e256ba337"
      },
      "source": [
        "data.shape"
      ],
      "execution_count": null,
      "outputs": [
        {
          "output_type": "execute_result",
          "data": {
            "text/plain": [
              "(756, 18)"
            ]
          },
          "metadata": {
            "tags": []
          },
          "execution_count": 4
        }
      ]
    },
    {
      "cell_type": "code",
      "metadata": {
        "colab": {
          "base_uri": "https://localhost:8080/"
        },
        "id": "wnTQn2TiStZG",
        "outputId": "937688c2-b605-4a69-e871-85bf04fe0965"
      },
      "source": [
        "data.info()"
      ],
      "execution_count": null,
      "outputs": [
        {
          "output_type": "stream",
          "text": [
            "<class 'pandas.core.frame.DataFrame'>\n",
            "RangeIndex: 756 entries, 0 to 755\n",
            "Data columns (total 18 columns):\n",
            " #   Column           Non-Null Count  Dtype \n",
            "---  ------           --------------  ----- \n",
            " 0   id               756 non-null    int64 \n",
            " 1   season           756 non-null    int64 \n",
            " 2   city             749 non-null    object\n",
            " 3   date             756 non-null    object\n",
            " 4   team1            756 non-null    object\n",
            " 5   team2            756 non-null    object\n",
            " 6   toss_winner      756 non-null    object\n",
            " 7   toss_decision    756 non-null    object\n",
            " 8   result           756 non-null    object\n",
            " 9   dl_applied       756 non-null    int64 \n",
            " 10  winner           752 non-null    object\n",
            " 11  win_by_runs      756 non-null    int64 \n",
            " 12  win_by_wickets   756 non-null    int64 \n",
            " 13  player_of_match  752 non-null    object\n",
            " 14  venue            756 non-null    object\n",
            " 15  umpire1          754 non-null    object\n",
            " 16  umpire2          754 non-null    object\n",
            " 17  umpire3          119 non-null    object\n",
            "dtypes: int64(5), object(13)\n",
            "memory usage: 106.4+ KB\n"
          ],
          "name": "stdout"
        }
      ]
    },
    {
      "cell_type": "code",
      "metadata": {
        "colab": {
          "base_uri": "https://localhost:8080/"
        },
        "id": "98St9x-OS4j4",
        "outputId": "3377dd57-2183-4a04-908f-e68ca5aba8c9"
      },
      "source": [
        "data.columns"
      ],
      "execution_count": null,
      "outputs": [
        {
          "output_type": "execute_result",
          "data": {
            "text/plain": [
              "Index(['id', 'season', 'city', 'date', 'team1', 'team2', 'toss_winner',\n",
              "       'toss_decision', 'result', 'dl_applied', 'winner', 'win_by_runs',\n",
              "       'win_by_wickets', 'player_of_match', 'venue', 'umpire1', 'umpire2',\n",
              "       'umpire3'],\n",
              "      dtype='object')"
            ]
          },
          "metadata": {
            "tags": []
          },
          "execution_count": 6
        }
      ]
    },
    {
      "cell_type": "markdown",
      "metadata": {
        "id": "teIV7jKdS72W"
      },
      "source": [
        "Data pre-processing:Finding out NaN values"
      ]
    },
    {
      "cell_type": "code",
      "metadata": {
        "colab": {
          "base_uri": "https://localhost:8080/"
        },
        "id": "fWYxYe-2TZuZ",
        "outputId": "464e6dd7-5a0b-4770-bb34-be02a38585b9"
      },
      "source": [
        "data.isna().any()"
      ],
      "execution_count": null,
      "outputs": [
        {
          "output_type": "execute_result",
          "data": {
            "text/plain": [
              "id                 False\n",
              "season             False\n",
              "city                True\n",
              "date               False\n",
              "team1              False\n",
              "team2              False\n",
              "toss_winner        False\n",
              "toss_decision      False\n",
              "result             False\n",
              "dl_applied         False\n",
              "winner              True\n",
              "win_by_runs        False\n",
              "win_by_wickets     False\n",
              "player_of_match     True\n",
              "venue              False\n",
              "umpire1             True\n",
              "umpire2             True\n",
              "umpire3             True\n",
              "dtype: bool"
            ]
          },
          "metadata": {
            "tags": []
          },
          "execution_count": 8
        }
      ]
    },
    {
      "cell_type": "markdown",
      "metadata": {
        "id": "f1DjiJwgTyGx"
      },
      "source": [
        "Statistical Description of Dataset"
      ]
    },
    {
      "cell_type": "code",
      "metadata": {
        "colab": {
          "base_uri": "https://localhost:8080/",
          "height": 295
        },
        "id": "t1KomoWYTwaO",
        "outputId": "65a1ee0e-8a38-4a38-f303-383d7be61057"
      },
      "source": [
        "data.describe()"
      ],
      "execution_count": null,
      "outputs": [
        {
          "output_type": "execute_result",
          "data": {
            "text/html": [
              "<div>\n",
              "<style scoped>\n",
              "    .dataframe tbody tr th:only-of-type {\n",
              "        vertical-align: middle;\n",
              "    }\n",
              "\n",
              "    .dataframe tbody tr th {\n",
              "        vertical-align: top;\n",
              "    }\n",
              "\n",
              "    .dataframe thead th {\n",
              "        text-align: right;\n",
              "    }\n",
              "</style>\n",
              "<table border=\"1\" class=\"dataframe\">\n",
              "  <thead>\n",
              "    <tr style=\"text-align: right;\">\n",
              "      <th></th>\n",
              "      <th>id</th>\n",
              "      <th>season</th>\n",
              "      <th>dl_applied</th>\n",
              "      <th>win_by_runs</th>\n",
              "      <th>win_by_wickets</th>\n",
              "    </tr>\n",
              "  </thead>\n",
              "  <tbody>\n",
              "    <tr>\n",
              "      <th>count</th>\n",
              "      <td>756.000000</td>\n",
              "      <td>756.000000</td>\n",
              "      <td>756.000000</td>\n",
              "      <td>756.000000</td>\n",
              "      <td>756.000000</td>\n",
              "    </tr>\n",
              "    <tr>\n",
              "      <th>mean</th>\n",
              "      <td>1792.178571</td>\n",
              "      <td>2013.444444</td>\n",
              "      <td>0.025132</td>\n",
              "      <td>13.283069</td>\n",
              "      <td>3.350529</td>\n",
              "    </tr>\n",
              "    <tr>\n",
              "      <th>std</th>\n",
              "      <td>3464.478148</td>\n",
              "      <td>3.366895</td>\n",
              "      <td>0.156630</td>\n",
              "      <td>23.471144</td>\n",
              "      <td>3.387963</td>\n",
              "    </tr>\n",
              "    <tr>\n",
              "      <th>min</th>\n",
              "      <td>1.000000</td>\n",
              "      <td>2008.000000</td>\n",
              "      <td>0.000000</td>\n",
              "      <td>0.000000</td>\n",
              "      <td>0.000000</td>\n",
              "    </tr>\n",
              "    <tr>\n",
              "      <th>25%</th>\n",
              "      <td>189.750000</td>\n",
              "      <td>2011.000000</td>\n",
              "      <td>0.000000</td>\n",
              "      <td>0.000000</td>\n",
              "      <td>0.000000</td>\n",
              "    </tr>\n",
              "    <tr>\n",
              "      <th>50%</th>\n",
              "      <td>378.500000</td>\n",
              "      <td>2013.000000</td>\n",
              "      <td>0.000000</td>\n",
              "      <td>0.000000</td>\n",
              "      <td>4.000000</td>\n",
              "    </tr>\n",
              "    <tr>\n",
              "      <th>75%</th>\n",
              "      <td>567.250000</td>\n",
              "      <td>2016.000000</td>\n",
              "      <td>0.000000</td>\n",
              "      <td>19.000000</td>\n",
              "      <td>6.000000</td>\n",
              "    </tr>\n",
              "    <tr>\n",
              "      <th>max</th>\n",
              "      <td>11415.000000</td>\n",
              "      <td>2019.000000</td>\n",
              "      <td>1.000000</td>\n",
              "      <td>146.000000</td>\n",
              "      <td>10.000000</td>\n",
              "    </tr>\n",
              "  </tbody>\n",
              "</table>\n",
              "</div>"
            ],
            "text/plain": [
              "                 id       season  dl_applied  win_by_runs  win_by_wickets\n",
              "count    756.000000   756.000000  756.000000   756.000000      756.000000\n",
              "mean    1792.178571  2013.444444    0.025132    13.283069        3.350529\n",
              "std     3464.478148     3.366895    0.156630    23.471144        3.387963\n",
              "min        1.000000  2008.000000    0.000000     0.000000        0.000000\n",
              "25%      189.750000  2011.000000    0.000000     0.000000        0.000000\n",
              "50%      378.500000  2013.000000    0.000000     0.000000        4.000000\n",
              "75%      567.250000  2016.000000    0.000000    19.000000        6.000000\n",
              "max    11415.000000  2019.000000    1.000000   146.000000       10.000000"
            ]
          },
          "metadata": {
            "tags": []
          },
          "execution_count": 9
        }
      ]
    },
    {
      "cell_type": "markdown",
      "metadata": {
        "id": "7i_4Cw77UGig"
      },
      "source": [
        "How many matches(in total) were played according to the dataset?\n"
      ]
    },
    {
      "cell_type": "code",
      "metadata": {
        "colab": {
          "base_uri": "https://localhost:8080/"
        },
        "id": "qY2Y6NnJUM6v",
        "outputId": "8265281e-10d3-47e2-e003-3e88b9083e4a"
      },
      "source": [
        "data['id'].count()"
      ],
      "execution_count": null,
      "outputs": [
        {
          "output_type": "execute_result",
          "data": {
            "text/plain": [
              "756"
            ]
          },
          "metadata": {
            "tags": []
          },
          "execution_count": 10
        }
      ]
    },
    {
      "cell_type": "markdown",
      "metadata": {
        "id": "ovznehmDUUBP"
      },
      "source": [
        "How many IPL seasons are we using to analyse?\n"
      ]
    },
    {
      "cell_type": "code",
      "metadata": {
        "colab": {
          "base_uri": "https://localhost:8080/"
        },
        "id": "Fyzi89_LUTrI",
        "outputId": "9dbafa5e-2c43-42a4-f688-bf09fe62daf3"
      },
      "source": [
        "data['season'].unique()"
      ],
      "execution_count": null,
      "outputs": [
        {
          "output_type": "execute_result",
          "data": {
            "text/plain": [
              "array([2017, 2008, 2009, 2010, 2011, 2012, 2013, 2014, 2015, 2016, 2018,\n",
              "       2019])"
            ]
          },
          "metadata": {
            "tags": []
          },
          "execution_count": 11
        }
      ]
    },
    {
      "cell_type": "markdown",
      "metadata": {
        "id": "ZMqXixv2Uolu"
      },
      "source": [
        "Which IPL team won by scoring maximum runs?"
      ]
    },
    {
      "cell_type": "code",
      "metadata": {
        "colab": {
          "base_uri": "https://localhost:8080/"
        },
        "id": "1X3x4ZgHUoR6",
        "outputId": "0a577a11-98a6-4347-fcf2-34770811520c"
      },
      "source": [
        "data.iloc[data['win_by_runs'].idxmax()]"
      ],
      "execution_count": null,
      "outputs": [
        {
          "output_type": "execute_result",
          "data": {
            "text/plain": [
              "id                               44\n",
              "season                         2017\n",
              "city                          Delhi\n",
              "date                     2017-05-06\n",
              "team1                Mumbai Indians\n",
              "team2              Delhi Daredevils\n",
              "toss_winner        Delhi Daredevils\n",
              "toss_decision                 field\n",
              "result                       normal\n",
              "dl_applied                        0\n",
              "winner               Mumbai Indians\n",
              "win_by_runs                     146\n",
              "win_by_wickets                    0\n",
              "player_of_match         LMP Simmons\n",
              "venue              Feroz Shah Kotla\n",
              "umpire1                 Nitin Menon\n",
              "umpire2                   CK Nandan\n",
              "umpire3                         NaN\n",
              "Name: 43, dtype: object"
            ]
          },
          "metadata": {
            "tags": []
          },
          "execution_count": 13
        }
      ]
    },
    {
      "cell_type": "markdown",
      "metadata": {
        "id": "uFS6B_PPVS6-"
      },
      "source": [
        "Which IPL team won by consuming maximum wickets?"
      ]
    },
    {
      "cell_type": "code",
      "metadata": {
        "colab": {
          "base_uri": "https://localhost:8080/"
        },
        "id": "teEnXqjuVZ8K",
        "outputId": "55e06c35-68d1-45b5-ee4d-f1ef466f976d"
      },
      "source": [
        "data.iloc[data['win_by_wickets'].idxmax()]"
      ],
      "execution_count": null,
      "outputs": [
        {
          "output_type": "execute_result",
          "data": {
            "text/plain": [
              "id                                                      3\n",
              "season                                               2017\n",
              "city                                               Rajkot\n",
              "date                                           2017-04-07\n",
              "team1                                       Gujarat Lions\n",
              "team2                               Kolkata Knight Riders\n",
              "toss_winner                         Kolkata Knight Riders\n",
              "toss_decision                                       field\n",
              "result                                             normal\n",
              "dl_applied                                              0\n",
              "winner                              Kolkata Knight Riders\n",
              "win_by_runs                                             0\n",
              "win_by_wickets                                         10\n",
              "player_of_match                                   CA Lynn\n",
              "venue              Saurashtra Cricket Association Stadium\n",
              "umpire1                                       Nitin Menon\n",
              "umpire2                                         CK Nandan\n",
              "umpire3                                               NaN\n",
              "Name: 2, dtype: object"
            ]
          },
          "metadata": {
            "tags": []
          },
          "execution_count": 14
        }
      ]
    },
    {
      "cell_type": "markdown",
      "metadata": {
        "id": "vAjfb8oyV0E8"
      },
      "source": [
        "Which IPL team won by minimum wickets?\n"
      ]
    },
    {
      "cell_type": "code",
      "metadata": {
        "colab": {
          "base_uri": "https://localhost:8080/"
        },
        "id": "htrTkgclVqJl",
        "outputId": "27f9c4a8-0bef-478f-c315-131de8b100a5"
      },
      "source": [
        "data.iloc[data['win_by_wickets'].idxmin()]"
      ],
      "execution_count": null,
      "outputs": [
        {
          "output_type": "execute_result",
          "data": {
            "text/plain": [
              "id                                                         1\n",
              "season                                                  2017\n",
              "city                                               Hyderabad\n",
              "date                                              2017-04-05\n",
              "team1                                    Sunrisers Hyderabad\n",
              "team2                            Royal Challengers Bangalore\n",
              "toss_winner                      Royal Challengers Bangalore\n",
              "toss_decision                                          field\n",
              "result                                                normal\n",
              "dl_applied                                                 0\n",
              "winner                                   Sunrisers Hyderabad\n",
              "win_by_runs                                               35\n",
              "win_by_wickets                                             0\n",
              "player_of_match                                 Yuvraj Singh\n",
              "venue              Rajiv Gandhi International Stadium, Uppal\n",
              "umpire1                                          AY Dandekar\n",
              "umpire2                                             NJ Llong\n",
              "umpire3                                                  NaN\n",
              "Name: 0, dtype: object"
            ]
          },
          "metadata": {
            "tags": []
          },
          "execution_count": 15
        }
      ]
    },
    {
      "cell_type": "markdown",
      "metadata": {
        "id": "4NtxfvHaXH-I"
      },
      "source": [
        "Which season consisted of the highest number of matches ever played?"
      ]
    },
    {
      "cell_type": "code",
      "metadata": {
        "colab": {
          "base_uri": "https://localhost:8080/",
          "height": 268
        },
        "id": "jGvzUo6lVzgd",
        "outputId": "b33b7077-34e5-487b-bfed-f4f3cc39200e"
      },
      "source": [
        "fig_dims=(20,4)\n",
        "fig,ax=plt.subplots(figsize=fig_dims)\n",
        "sns.countplot(x='season', ax=ax, data=data)\n",
        "plt.show()"
      ],
      "execution_count": null,
      "outputs": [
        {
          "output_type": "display_data",
          "data": {
            "image/png": "[encoded data removed]",
            "text/plain": [
              "<Figure size 1440x288 with 1 Axes>"
            ]
          },
          "metadata": {
            "tags": [],
            "needs_background": "light"
          }
        }
      ]
    },
    {
      "cell_type": "markdown",
      "metadata": {
        "id": "_nPjuaw3kV92"
      },
      "source": [
        "Which is the most successful IPL team with all the data at hand?"
      ]
    },
    {
      "cell_type": "code",
      "metadata": {
        "colab": {
          "base_uri": "https://localhost:8080/",
          "height": 296
        },
        "id": "zSVhlPDkkfZ4",
        "outputId": "22316f55-2388-406a-bf40-ee22cc442b02"
      },
      "source": [
        "data1=data.winner.value_counts()\n",
        "sns.barplot(y=data1.index,x=data1)"
      ],
      "execution_count": null,
      "outputs": [
        {
          "output_type": "execute_result",
          "data": {
            "text/plain": [
              "<matplotlib.axes._subplots.AxesSubplot at 0x7f4171dc0690>"
            ]
          },
          "metadata": {
            "tags": []
          },
          "execution_count": 25
        },
        {
          "output_type": "display_data",
          "data": {
            "image/png": "[encoded data removed]",
            "text/plain": [
              "<Figure size 432x288 with 1 Axes>"
            ]
          },
          "metadata": {
            "tags": [],
            "needs_background": "light"
          }
        }
      ]
    },
    {
      "cell_type": "markdown",
      "metadata": {
        "id": "K-f_4ncsk4Ch"
      },
      "source": [
        "What is the problality of winning the match if the toss was wom?"
      ]
    },
    {
      "cell_type": "code",
      "metadata": {
        "colab": {
          "base_uri": "https://localhost:8080/"
        },
        "id": "XcidDHkMlAtG",
        "outputId": "a9a65fd5-904a-4fc5-f118-f0a599486907"
      },
      "source": [
        "probablity_of_win=(data['toss_winner']==data['winner'])\n",
        "probablity_of_win.groupby(probablity_of_win).size()"
      ],
      "execution_count": null,
      "outputs": [
        {
          "output_type": "execute_result",
          "data": {
            "text/plain": [
              "False    363\n",
              "True     393\n",
              "dtype: int64"
            ]
          },
          "metadata": {
            "tags": []
          },
          "execution_count": 26
        }
      ]
    },
    {
      "cell_type": "code",
      "metadata": {
        "colab": {
          "base_uri": "https://localhost:8080/",
          "height": 335
        },
        "id": "sZbgKKjIlbaW",
        "outputId": "88384981-c63d-4b6c-d5c4-7dbfd84d2698"
      },
      "source": [
        "sns.countplot(probablity_of_win)"
      ],
      "execution_count": null,
      "outputs": [
        {
          "output_type": "stream",
          "text": [
            "/usr/local/lib/python3.7/dist-packages/seaborn/_decorators.py:43: FutureWarning: Pass the following variable as a keyword arg: x. From version 0.12, the only valid positional argument will be `data`, and passing other arguments without an explicit keyword will result in an error or misinterpretation.\n",
            "  FutureWarning\n"
          ],
          "name": "stderr"
        },
        {
          "output_type": "execute_result",
          "data": {
            "text/plain": [
              "<matplotlib.axes._subplots.AxesSubplot at 0x7f4171c16310>"
            ]
          },
          "metadata": {
            "tags": []
          },
          "execution_count": 27
        },
        {
          "output_type": "display_data",
          "data": {
            "image/png": "[encoded data removed]",
            "text/plain": [
              "<Figure size 432x288 with 1 Axes>"
            ]
          },
          "metadata": {
            "tags": [],
            "needs_background": "light"
          }
        }
      ]
    },
    {
      "cell_type": "markdown",
      "metadata": {
        "id": "ubJS2DUmlsVp"
      },
      "source": [
        "We can come to a conclusion that toss will matter a lot.There is only a very slight advantage of winning if the team wins the toss."
      ]
    },
    {
      "cell_type": "markdown",
      "metadata": {
        "id": "voaJtesvlhX0"
      },
      "source": [
        "Setting a higher row width"
      ]
    },
    {
      "cell_type": "code",
      "metadata": {
        "colab": {
          "base_uri": "https://localhost:8080/"
        },
        "id": "bKc7NTRrlgVS",
        "outputId": "94001d3d-2aaa-4936-946f-79f83182be9f"
      },
      "source": [
        "pd.set_option('max_rows',99999)\n",
        "pd.set_option('max_colwidth',400)\n",
        "pd.describe_option('max_colwidth')"
      ],
      "execution_count": null,
      "outputs": [
        {
          "output_type": "stream",
          "text": [
            "display.max_colwidth : int or None\n",
            "    The maximum width in characters of a column in the repr of\n",
            "    a pandas data structure. When the column overflows, a \"...\"\n",
            "    placeholder is embedded in the output. A 'None' value means unlimited.\n",
            "    [default: 50] [currently: 400]\n"
          ],
          "name": "stdout"
        }
      ]
    },
    {
      "cell_type": "markdown",
      "metadata": {
        "id": "-FEzXh0Mxt_x"
      },
      "source": [
        "Do they choose to field or bat when they win the toss?"
      ]
    },
    {
      "cell_type": "code",
      "metadata": {
        "colab": {
          "base_uri": "https://localhost:8080/"
        },
        "id": "tcREANOoswe8",
        "outputId": "4bc381b8-8d50-460c-a2dd-5ba4f883773b"
      },
      "source": [
        "data['toss_decision'].value_counts()"
      ],
      "execution_count": null,
      "outputs": [
        {
          "output_type": "execute_result",
          "data": {
            "text/plain": [
              "field    463\n",
              "bat      293\n",
              "Name: toss_decision, dtype: int64"
            ]
          },
          "metadata": {
            "tags": []
          },
          "execution_count": 38
        }
      ]
    },
    {
      "cell_type": "markdown",
      "metadata": {
        "id": "sNdqDBbI6MNs"
      },
      "source": [
        "Toss Decision"
      ]
    },
    {
      "cell_type": "code",
      "metadata": {
        "id": "-hQd2KHc6HsY"
      },
      "source": [
        "teams=data['toss_decision'].unique()\n",
        "decision_making=pd.DataFrame([],columns=['Toss Winner','Decision','Times'])\n",
        "for id,element in enumerate(teams):\n",
        "  temp_bat=data[(data['toss_winner']==element)&(data['toss_decision']=='bat')]\n",
        "  temp_field=data[(data['toss_winner']==element)&(data['toss_decision']=='field')]\n",
        "  #Append to decision_making\n",
        "  decision_making=decision_making.append({'Toss Winner':element,\n",
        "                                          'Decision':'bat', 'Times':temp_bat.count()},ignore_index=True)\n",
        "  decision_making=decision_making.append({'Toss Winner':element,\n",
        "                                          'Decision':'field', 'Times':temp_field.count()},ignore_index=True)"
      ],
      "execution_count": null,
      "outputs": []
    },
    {
      "cell_type": "code",
      "metadata": {
        "id": "NesLE9UG8v5-",
        "colab": {
          "base_uri": "https://localhost:8080/",
          "height": 256
        },
        "outputId": "50a01718-b08f-4991-cc74-9e7df63b73ac"
      },
      "source": [
        "decision_making"
      ],
      "execution_count": null,
      "outputs": [
        {
          "output_type": "execute_result",
          "data": {
            "text/html": [
              "<div>\n",
              "<style scoped>\n",
              "    .dataframe tbody tr th:only-of-type {\n",
              "        vertical-align: middle;\n",
              "    }\n",
              "\n",
              "    .dataframe tbody tr th {\n",
              "        vertical-align: top;\n",
              "    }\n",
              "\n",
              "    .dataframe thead th {\n",
              "        text-align: right;\n",
              "    }\n",
              "</style>\n",
              "<table border=\"1\" class=\"dataframe\">\n",
              "  <thead>\n",
              "    <tr style=\"text-align: right;\">\n",
              "      <th></th>\n",
              "      <th>Toss Winner</th>\n",
              "      <th>Decision</th>\n",
              "      <th>Times</th>\n",
              "    </tr>\n",
              "  </thead>\n",
              "  <tbody>\n",
              "    <tr>\n",
              "      <th>0</th>\n",
              "      <td>field</td>\n",
              "      <td>bat</td>\n",
              "      <td>id                 0\n",
              "season             0\n",
              "city               0\n",
              "date               0\n",
              "team1              0\n",
              "team2              0\n",
              "toss_winner        0\n",
              "toss_decision      0\n",
              "result             0\n",
              "dl_applied         0\n",
              "winner             0\n",
              "win_by_runs        0\n",
              "win_by_wickets     0\n",
              "player_of_match    0\n",
              "venue              0\n",
              "umpire1            0\n",
              "umpire2            0\n",
              "umpire3            0\n",
              "dtype: int64</td>\n",
              "    </tr>\n",
              "    <tr>\n",
              "      <th>1</th>\n",
              "      <td>field</td>\n",
              "      <td>field</td>\n",
              "      <td>id                 0\n",
              "season             0\n",
              "city               0\n",
              "date               0\n",
              "team1              0\n",
              "team2              0\n",
              "toss_winner        0\n",
              "toss_decision      0\n",
              "result             0\n",
              "dl_applied         0\n",
              "winner             0\n",
              "win_by_runs        0\n",
              "win_by_wickets     0\n",
              "player_of_match    0\n",
              "venue              0\n",
              "umpire1            0\n",
              "umpire2            0\n",
              "umpire3            0\n",
              "dtype: int64</td>\n",
              "    </tr>\n",
              "    <tr>\n",
              "      <th>2</th>\n",
              "      <td>bat</td>\n",
              "      <td>bat</td>\n",
              "      <td>id                 0\n",
              "season             0\n",
              "city               0\n",
              "date               0\n",
              "team1              0\n",
              "team2              0\n",
              "toss_winner        0\n",
              "toss_decision      0\n",
              "result             0\n",
              "dl_applied         0\n",
              "winner             0\n",
              "win_by_runs        0\n",
              "win_by_wickets     0\n",
              "player_of_match    0\n",
              "venue              0\n",
              "umpire1            0\n",
              "umpire2            0\n",
              "umpire3            0\n",
              "dtype: int64</td>\n",
              "    </tr>\n",
              "    <tr>\n",
              "      <th>3</th>\n",
              "      <td>bat</td>\n",
              "      <td>field</td>\n",
              "      <td>id                 0\n",
              "season             0\n",
              "city               0\n",
              "date               0\n",
              "team1              0\n",
              "team2              0\n",
              "toss_winner        0\n",
              "toss_decision      0\n",
              "result             0\n",
              "dl_applied         0\n",
              "winner             0\n",
              "win_by_runs        0\n",
              "win_by_wickets     0\n",
              "player_of_match    0\n",
              "venue              0\n",
              "umpire1            0\n",
              "umpire2            0\n",
              "umpire3            0\n",
              "dtype: int64</td>\n",
              "    </tr>\n",
              "  </tbody>\n",
              "</table>\n",
              "</div>"
            ],
            "text/plain": [
              "  Toss Winner  ...                                                                                                                                                                                                                                                                                                                                                                                                   Times\n",
              "0       field  ...  id                 0\n",
              "season             0\n",
              "city               0\n",
              "date               0\n",
              "team1              0\n",
              "team2              0\n",
              "toss_winner        0\n",
              "toss_decision      0\n",
              "result             0\n",
              "dl_applied         0\n",
              "winner             0\n",
              "win_by_runs        0\n",
              "win_by_wickets     0\n",
              "player_of_match    0\n",
              "venue              0\n",
              "umpire1            0\n",
              "umpire2            0\n",
              "umpire3            0\n",
              "dtype: int64\n",
              "1       field  ...  id                 0\n",
              "season             0\n",
              "city               0\n",
              "date               0\n",
              "team1              0\n",
              "team2              0\n",
              "toss_winner        0\n",
              "toss_decision      0\n",
              "result             0\n",
              "dl_applied         0\n",
              "winner             0\n",
              "win_by_runs        0\n",
              "win_by_wickets     0\n",
              "player_of_match    0\n",
              "venue              0\n",
              "umpire1            0\n",
              "umpire2            0\n",
              "umpire3            0\n",
              "dtype: int64\n",
              "2         bat  ...  id                 0\n",
              "season             0\n",
              "city               0\n",
              "date               0\n",
              "team1              0\n",
              "team2              0\n",
              "toss_winner        0\n",
              "toss_decision      0\n",
              "result             0\n",
              "dl_applied         0\n",
              "winner             0\n",
              "win_by_runs        0\n",
              "win_by_wickets     0\n",
              "player_of_match    0\n",
              "venue              0\n",
              "umpire1            0\n",
              "umpire2            0\n",
              "umpire3            0\n",
              "dtype: int64\n",
              "3         bat  ...  id                 0\n",
              "season             0\n",
              "city               0\n",
              "date               0\n",
              "team1              0\n",
              "team2              0\n",
              "toss_winner        0\n",
              "toss_decision      0\n",
              "result             0\n",
              "dl_applied         0\n",
              "winner             0\n",
              "win_by_runs        0\n",
              "win_by_wickets     0\n",
              "player_of_match    0\n",
              "venue              0\n",
              "umpire1            0\n",
              "umpire2            0\n",
              "umpire3            0\n",
              "dtype: int64\n",
              "\n",
              "[4 rows x 3 columns]"
            ]
          },
          "metadata": {
            "tags": []
          },
          "execution_count": 54
        }
      ]
    },
    {
      "cell_type": "markdown",
      "metadata": {
        "id": "-h7NcCc-qwH6"
      },
      "source": [
        "Highest wins of matches by teams per season"
      ]
    },
    {
      "cell_type": "code",
      "metadata": {
        "colab": {
          "base_uri": "https://localhost:8080/"
        },
        "id": "WCdjYkoZmE75",
        "outputId": "316e917e-076d-4a39-8cb4-6634153519a4"
      },
      "source": [
        "data.groupby('season')['winner'].value_counts()"
      ],
      "execution_count": null,
      "outputs": [
        {
          "output_type": "execute_result",
          "data": {
            "text/plain": [
              "season  winner                     \n",
              "2008    Rajasthan Royals               13\n",
              "        Kings XI Punjab                10\n",
              "        Chennai Super Kings             9\n",
              "        Delhi Daredevils                7\n",
              "        Mumbai Indians                  7\n",
              "        Kolkata Knight Riders           6\n",
              "        Royal Challengers Bangalore     4\n",
              "        Deccan Chargers                 2\n",
              "2009    Delhi Daredevils               10\n",
              "        Deccan Chargers                 9\n",
              "        Royal Challengers Bangalore     9\n",
              "        Chennai Super Kings             8\n",
              "        Kings XI Punjab                 7\n",
              "        Rajasthan Royals                6\n",
              "        Mumbai Indians                  5\n",
              "        Kolkata Knight Riders           3\n",
              "2010    Mumbai Indians                 11\n",
              "        Chennai Super Kings             9\n",
              "        Deccan Chargers                 8\n",
              "        Royal Challengers Bangalore     8\n",
              "        Delhi Daredevils                7\n",
              "        Kolkata Knight Riders           7\n",
              "        Rajasthan Royals                6\n",
              "        Kings XI Punjab                 4\n",
              "2011    Chennai Super Kings            11\n",
              "        Mumbai Indians                 10\n",
              "        Royal Challengers Bangalore    10\n",
              "        Kolkata Knight Riders           8\n",
              "        Kings XI Punjab                 7\n",
              "        Deccan Chargers                 6\n",
              "        Kochi Tuskers Kerala            6\n",
              "        Rajasthan Royals                6\n",
              "        Delhi Daredevils                4\n",
              "        Pune Warriors                   4\n",
              "2012    Kolkata Knight Riders          12\n",
              "        Delhi Daredevils               11\n",
              "        Chennai Super Kings            10\n",
              "        Mumbai Indians                 10\n",
              "        Kings XI Punjab                 8\n",
              "        Royal Challengers Bangalore     8\n",
              "        Rajasthan Royals                7\n",
              "        Deccan Chargers                 4\n",
              "        Pune Warriors                   4\n",
              "2013    Mumbai Indians                 13\n",
              "        Chennai Super Kings            12\n",
              "        Rajasthan Royals               11\n",
              "        Sunrisers Hyderabad            10\n",
              "        Royal Challengers Bangalore     9\n",
              "        Kings XI Punjab                 8\n",
              "        Kolkata Knight Riders           6\n",
              "        Pune Warriors                   4\n",
              "        Delhi Daredevils                3\n",
              "2014    Kings XI Punjab                12\n",
              "        Kolkata Knight Riders          11\n",
              "        Chennai Super Kings            10\n",
              "        Mumbai Indians                  7\n",
              "        Rajasthan Royals                7\n",
              "        Sunrisers Hyderabad             6\n",
              "        Royal Challengers Bangalore     5\n",
              "        Delhi Daredevils                2\n",
              "2015    Chennai Super Kings            10\n",
              "        Mumbai Indians                 10\n",
              "        Royal Challengers Bangalore     8\n",
              "        Kolkata Knight Riders           7\n",
              "        Rajasthan Royals                7\n",
              "        Sunrisers Hyderabad             7\n",
              "        Delhi Daredevils                5\n",
              "        Kings XI Punjab                 3\n",
              "2016    Sunrisers Hyderabad            11\n",
              "        Gujarat Lions                   9\n",
              "        Royal Challengers Bangalore     9\n",
              "        Kolkata Knight Riders           8\n",
              "        Delhi Daredevils                7\n",
              "        Mumbai Indians                  7\n",
              "        Rising Pune Supergiants         5\n",
              "        Kings XI Punjab                 4\n",
              "2017    Mumbai Indians                 12\n",
              "        Rising Pune Supergiant         10\n",
              "        Kolkata Knight Riders           9\n",
              "        Sunrisers Hyderabad             8\n",
              "        Kings XI Punjab                 7\n",
              "        Delhi Daredevils                6\n",
              "        Gujarat Lions                   4\n",
              "        Royal Challengers Bangalore     3\n",
              "2018    Chennai Super Kings            11\n",
              "        Sunrisers Hyderabad            10\n",
              "        Kolkata Knight Riders           9\n",
              "        Rajasthan Royals                7\n",
              "        Kings XI Punjab                 6\n",
              "        Mumbai Indians                  6\n",
              "        Royal Challengers Bangalore     6\n",
              "        Delhi Daredevils                5\n",
              "2019    Mumbai Indians                 11\n",
              "        Chennai Super Kings            10\n",
              "        Delhi Capitals                 10\n",
              "        Kings XI Punjab                 6\n",
              "        Kolkata Knight Riders           6\n",
              "        Sunrisers Hyderabad             6\n",
              "        Rajasthan Royals                5\n",
              "        Royal Challengers Bangalore     5\n",
              "Name: winner, dtype: int64"
            ]
          },
          "metadata": {
            "tags": []
          },
          "execution_count": 35
        }
      ]
    },
    {
      "cell_type": "markdown",
      "metadata": {
        "id": "D8YvqKNvx4pL"
      },
      "source": [
        "Man of the match - Highest to Lowest"
      ]
    },
    {
      "cell_type": "code",
      "metadata": {
        "colab": {
          "base_uri": "https://localhost:8080/"
        },
        "id": "rIx7DeJ-x_JW",
        "outputId": "4688a735-a043-4f56-8510-b4018681b063"
      },
      "source": [
        "data['player_of_match'].value_counts()"
      ],
      "execution_count": null,
      "outputs": [
        {
          "output_type": "execute_result",
          "data": {
            "text/plain": [
              "CH Gayle             21\n",
              "AB de Villiers       20\n",
              "RG Sharma            17\n",
              "MS Dhoni             17\n",
              "DA Warner            17\n",
              "YK Pathan            16\n",
              "SR Watson            15\n",
              "SK Raina             14\n",
              "G Gambhir            13\n",
              "MEK Hussey           12\n",
              "AM Rahane            12\n",
              "V Kohli              12\n",
              "DR Smith             11\n",
              "AD Russell           11\n",
              "A Mishra             11\n",
              "V Sehwag             11\n",
              "KA Pollard           10\n",
              "JH Kallis            10\n",
              "AT Rayudu             9\n",
              "SE Marsh              9\n",
              "SP Narine             9\n",
              "SR Tendulkar          8\n",
              "RA Jadeja             8\n",
              "UT Yadav              8\n",
              "Harbhajan Singh       8\n",
              "Rashid Khan           7\n",
              "RV Uthappa            7\n",
              "AC Gilchrist          7\n",
              "RR Pant               6\n",
              "M Vijay               6\n",
              "SL Malinga            6\n",
              "BJ Hodge              6\n",
              "A Nehra               6\n",
              "S Dhawan              6\n",
              "HH Pandya             6\n",
              "KC Sangakkara         5\n",
              "BB McCullum           5\n",
              "B Kumar               5\n",
              "SV Samson             5\n",
              "DPMD Jayawardene      5\n",
              "SC Ganguly            5\n",
              "GJ Maxwell            5\n",
              "SPD Smith             5\n",
              "JP Faulkner           5\n",
              "JD Unadkat            5\n",
              "DW Steyn              5\n",
              "AJ Finch              5\n",
              "Sandeep Sharma        5\n",
              "JJ Bumrah             5\n",
              "Yuvraj Singh          5\n",
              "JC Buttler            5\n",
              "PA Patel              5\n",
              "KD Karthik            4\n",
              "CA Lynn               4\n",
              "NM Coulter-Nile       4\n",
              "KH Pandya             4\n",
              "MK Pandey             4\n",
              "SS Iyer               4\n",
              "AR Patel              4\n",
              "KL Rahul              4\n",
              "SK Warne              4\n",
              "JP Duminy             4\n",
              "F du Plessis          4\n",
              "N Rana                4\n",
              "ML Hayden             4\n",
              "KS Williamson         3\n",
              "A Kumble              3\n",
              "KP Pietersen          3\n",
              "LRPL Taylor           3\n",
              "A Symonds             3\n",
              "BA Stokes             3\n",
              "PP Chawla             3\n",
              "CJ Anderson           3\n",
              "LMP Simmons           3\n",
              "DA Miller             3\n",
              "M Vohra               3\n",
              "L Balaji              3\n",
              "Mandeep Singh         3\n",
              "WP Saha               3\n",
              "KK Nair               3\n",
              "R Vinay Kumar         3\n",
              "MK Tiwary             3\n",
              "DJ Bravo              3\n",
              "HV Patel              2\n",
              "Shakib Al Hasan       2\n",
              "M Morkel              2\n",
              "R Sharma              2\n",
              "R Ashwin              2\n",
              "HM Amla               2\n",
              "I Sharma              2\n",
              "MC Henriques          2\n",
              "KM Jadhav             2\n",
              "IK Pathan             2\n",
              "ST Jayasuriya         2\n",
              "SM Pollock            2\n",
              "MM Sharma             2\n",
              "MV Boucher            2\n",
              "MP Stoinis            2\n",
              "SK Trivedi            2\n",
              "AJ Tye                2\n",
              "Azhar Mahmood         2\n",
              "Harmeet Singh         2\n",
              "BW Hilfenhaus         2\n",
              "AS Rajpoot            2\n",
              "AB Dinda              2\n",
              "J Bairstow            2\n",
              "GH Vihari             2\n",
              "VR Aaron              2\n",
              "DJ Hussey             2\n",
              "M Muralitharan        2\n",
              "Sohail Tanvir         2\n",
              "MJ McClenaghan        2\n",
              "MA Agarwal            2\n",
              "R Dravid              2\n",
              "JA Morkel             2\n",
              "P Kumar               2\n",
              "M Ntini               2\n",
              "B Lee                 2\n",
              "CH Morris             2\n",
              "PC Valthaty           2\n",
              "Iqbal Abdulla         2\n",
              "PV Tambe              2\n",
              "S Gopal               2\n",
              "AS Yadav              2\n",
              "DE Bollinger          2\n",
              "GC Smith              2\n",
              "P Negi                2\n",
              "MM Patel              2\n",
              "MG Johnson            2\n",
              "BCJ Cutting           1\n",
              "SW Billings           1\n",
              "R Bhatia              1\n",
              "A Zampa               1\n",
              "PP Ojha               1\n",
              "BA Bhatt              1\n",
              "S Badrinath           1\n",
              "MR Marsh              1\n",
              "A Joseph              1\n",
              "DL Vettori            1\n",
              "A Singh               1\n",
              "JDP Oram              1\n",
              "DL Chahar             1\n",
              "Mohammed Siraj        1\n",
              "EJG Morgan            1\n",
              "Imran Tahir           1\n",
              "M Kartik              1\n",
              "SM Katich             1\n",
              "AD Mascarenhas        1\n",
              "MJ Lumb               1\n",
              "S Nadeem              1\n",
              "S Sohal               1\n",
              "DP Nannes             1\n",
              "SA Asnodkar           1\n",
              "SP Goswami            1\n",
              "PD Collingwood        1\n",
              "LH Ferguson           1\n",
              "YS Chahal             1\n",
              "CL White              1\n",
              "JD Ryder              1\n",
              "Q de Kock             1\n",
              "SB Jakati             1\n",
              "MS Bisla              1\n",
              "P Shaw                1\n",
              "B Stanlake            1\n",
              "Kuldeep Yadav         1\n",
              "CRD Fernando          1\n",
              "RP Singh              1\n",
              "LJ Wright             1\n",
              "L Ngidi               1\n",
              "TA Boult              1\n",
              "TM Dilshan            1\n",
              "M Ur Rahman           1\n",
              "RE Levi               1\n",
              "Z Khan                1\n",
              "MF Maharoof           1\n",
              "JJ Roy                1\n",
              "AC Voges              1\n",
              "JEC Franklin          1\n",
              "AP Tare               1\n",
              "MD Mishra             1\n",
              "S Anirudha            1\n",
              "MN Samuels            1\n",
              "GD McGrath            1\n",
              "MS Gony               1\n",
              "Ishan Kishan          1\n",
              "S Gill                1\n",
              "Washington Sundar     1\n",
              "RA Tripathi           1\n",
              "KMDN Kulasekara       1\n",
              "A Chandila            1\n",
              "GJ Bailey             1\n",
              "P Parameswaran        1\n",
              "RS Bopara             1\n",
              "KK Cooper             1\n",
              "S Curran              1\n",
              "AD Mathews            1\n",
              "S Sreesanth           1\n",
              "RJ Harris             1\n",
              "S Aravind             1\n",
              "LR Shukla             1\n",
              "TG Southee            1\n",
              "Umar Gul              1\n",
              "WPUJC Vaas            1\n",
              "SB Wagh               1\n",
              "K Rabada              1\n",
              "HH Gibbs              1\n",
              "Mohammed Shami        1\n",
              "KV Sharma             1\n",
              "J Archer              1\n",
              "DJG Sammy             1\n",
              "J Botha               1\n",
              "NV Ojha               1\n",
              "H Gurney              1\n",
              "CR Brathwaite         1\n",
              "K Ahmed               1\n",
              "R McLaren             1\n",
              "SA Yadav              1\n",
              "MA Starc              1\n",
              "Mustafizur Rahman     1\n",
              "K Paul                1\n",
              "AA Jhunjhunwala       1\n",
              "TL Suman              1\n",
              "S Hetmyer             1\n",
              "Shoaib Akhtar         1\n",
              "J Theron              1\n",
              "DJ Hooda              1\n",
              "Name: player_of_match, dtype: int64"
            ]
          },
          "metadata": {
            "tags": []
          },
          "execution_count": 39
        }
      ]
    },
    {
      "cell_type": "markdown",
      "metadata": {
        "id": "phPBdqDfzPo7"
      },
      "source": [
        "Most number wins in IPL"
      ]
    },
    {
      "cell_type": "code",
      "metadata": {
        "colab": {
          "base_uri": "https://localhost:8080/"
        },
        "id": "SRdoywJXze5f",
        "outputId": "5638ccef-0a4b-4751-f9ea-b2f8ad25d0ff"
      },
      "source": [
        "count_wins=data['winner'].value_counts()\n",
        "print(count_wins)"
      ],
      "execution_count": null,
      "outputs": [
        {
          "output_type": "stream",
          "text": [
            "Mumbai Indians                 109\n",
            "Chennai Super Kings            100\n",
            "Kolkata Knight Riders           92\n",
            "Royal Challengers Bangalore     84\n",
            "Kings XI Punjab                 82\n",
            "Rajasthan Royals                75\n",
            "Delhi Daredevils                67\n",
            "Sunrisers Hyderabad             58\n",
            "Deccan Chargers                 29\n",
            "Gujarat Lions                   13\n",
            "Pune Warriors                   12\n",
            "Rising Pune Supergiant          10\n",
            "Delhi Capitals                  10\n",
            "Kochi Tuskers Kerala             6\n",
            "Rising Pune Supergiants          5\n",
            "Name: winner, dtype: int64\n"
          ],
          "name": "stdout"
        }
      ]
    },
    {
      "cell_type": "code",
      "metadata": {
        "colab": {
          "base_uri": "https://localhost:8080/",
          "height": 703
        },
        "id": "VcCMcs1q0BXO",
        "outputId": "3acf07d8-325b-4ff8-ff2a-534aba57794c"
      },
      "source": [
        "labels=[X for X in count_wins.keys()]\n",
        "bar,ax=plt.subplots(figsize=(20,12))\n",
        "ax=plt.pie(x=count_wins,autopct=\"%.1f%%\",labels=labels)\n",
        "plt.title('Most wins in IPL', fontsize=17)\n",
        "plt.show()"
      ],
      "execution_count": null,
      "outputs": [
        {
          "output_type": "display_data",
          "data": {
            "image/png": "[encoded data removed]",
            "text/plain": [
              "<Figure size 1440x864 with 1 Axes>"
            ]
          },
          "metadata": {
            "tags": []
          }
        }
      ]
    },
    {
      "cell_type": "markdown",
      "metadata": {
        "id": "1G-fOUYIyOK_"
      },
      "source": [
        "In which city were the number of matches played?"
      ]
    },
    {
      "cell_type": "code",
      "metadata": {
        "colab": {
          "base_uri": "https://localhost:8080/"
        },
        "id": "zcjZSUV4yVJz",
        "outputId": "3e647772-826b-429c-f295-c4f71fcdc590"
      },
      "source": [
        "data['city'].value_counts()"
      ],
      "execution_count": null,
      "outputs": [
        {
          "output_type": "execute_result",
          "data": {
            "text/plain": [
              "Mumbai            101\n",
              "Kolkata            77\n",
              "Delhi              74\n",
              "Bangalore          66\n",
              "Hyderabad          64\n",
              "Chennai            57\n",
              "Jaipur             47\n",
              "Chandigarh         46\n",
              "Pune               38\n",
              "Durban             15\n",
              "Bengaluru          14\n",
              "Visakhapatnam      13\n",
              "Ahmedabad          12\n",
              "Centurion          12\n",
              "Mohali             10\n",
              "Rajkot             10\n",
              "Dharamsala          9\n",
              "Indore              9\n",
              "Johannesburg        8\n",
              "Port Elizabeth      7\n",
              "Cuttack             7\n",
              "Cape Town           7\n",
              "Abu Dhabi           7\n",
              "Ranchi              7\n",
              "Sharjah             6\n",
              "Raipur              6\n",
              "Kochi               5\n",
              "Kanpur              4\n",
              "Kimberley           3\n",
              "Nagpur              3\n",
              "East London         3\n",
              "Bloemfontein        2\n",
              "Name: city, dtype: int64"
            ]
          },
          "metadata": {
            "tags": []
          },
          "execution_count": 40
        }
      ]
    }
  ]
}